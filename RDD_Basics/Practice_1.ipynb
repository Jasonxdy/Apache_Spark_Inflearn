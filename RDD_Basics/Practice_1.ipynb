{
 "cells": [
  {
   "cell_type": "code",
   "execution_count": 1,
   "id": "08c95585-0fc5-4596-96cc-bbe2ffeab8e5",
   "metadata": {
    "tags": []
   },
   "outputs": [],
   "source": [
    "from pyspark import SparkContext, SparkConf"
   ]
  },
  {
   "cell_type": "code",
   "execution_count": 2,
   "id": "456e096c-3b05-47d7-ba80-ac40c22a2793",
   "metadata": {
    "tags": []
   },
   "outputs": [],
   "source": [
    "conf = SparkConf().setMaster(\"local\").setAppName(\"Practice-user-payments\")\n",
    "sc = SparkContext.getOrCreate(conf = conf)"
   ]
  },
  {
   "cell_type": "code",
   "execution_count": 18,
   "id": "34a7b94e-9a31-42b2-a4c9-949f8c82047a",
   "metadata": {
    "tags": []
   },
   "outputs": [
    {
     "name": "stdout",
     "output_type": "stream",
     "text": [
      "user 45 paid 3309.38 dollars\n",
      "user 79 paid 3790.570000000001 dollars\n",
      "user 96 paid 3924.230000000001 dollars\n",
      "user 23 paid 4042.6499999999987 dollars\n",
      "user 99 paid 4172.289999999998 dollars\n",
      "user 75 paid 4178.500000000001 dollars\n",
      "user 36 paid 4278.049999999997 dollars\n",
      "user 98 paid 4297.260000000001 dollars\n",
      "user 47 paid 4316.299999999999 dollars\n",
      "user 77 paid 4327.729999999999 dollars\n",
      "user 13 paid 4367.62 dollars\n",
      "user 48 paid 4384.33 dollars\n",
      "user 49 paid 4394.599999999999 dollars\n",
      "user 94 paid 4475.569999999999 dollars\n",
      "user 67 paid 4505.79 dollars\n",
      "user 50 paid 4517.27 dollars\n",
      "user 78 paid 4524.509999999999 dollars\n",
      "user 5 paid 4561.069999999999 dollars\n",
      "user 57 paid 4628.4 dollars\n",
      "user 83 paid 4635.799999999997 dollars\n",
      "user 91 paid 4642.259999999999 dollars\n",
      "user 74 paid 4647.129999999999 dollars\n",
      "user 84 paid 4652.939999999999 dollars\n",
      "user 3 paid 4659.63 dollars\n",
      "user 12 paid 4664.589999999998 dollars\n",
      "user 66 paid 4681.919999999999 dollars\n",
      "user 56 paid 4701.019999999999 dollars\n",
      "user 21 paid 4707.41 dollars\n",
      "user 80 paid 4727.860000000001 dollars\n",
      "user 14 paid 4735.030000000001 dollars\n",
      "user 37 paid 4735.200000000002 dollars\n",
      "user 7 paid 4755.070000000001 dollars\n",
      "user 44 paid 4756.8899999999985 dollars\n",
      "user 31 paid 4765.05 dollars\n",
      "user 82 paid 4812.489999999998 dollars\n",
      "user 4 paid 4815.050000000002 dollars\n",
      "user 10 paid 4819.700000000001 dollars\n",
      "user 88 paid 4830.549999999999 dollars\n",
      "user 20 paid 4836.859999999999 dollars\n",
      "user 89 paid 4851.479999999999 dollars\n",
      "user 95 paid 4876.840000000002 dollars\n",
      "user 38 paid 4898.460000000002 dollars\n",
      "user 76 paid 4904.209999999999 dollars\n",
      "user 86 paid 4908.81 dollars\n",
      "user 27 paid 4915.889999999999 dollars\n",
      "user 18 paid 4921.27 dollars\n",
      "user 53 paid 4945.299999999999 dollars\n",
      "user 1 paid 4958.600000000001 dollars\n",
      "user 51 paid 4975.22 dollars\n",
      "user 16 paid 4979.06 dollars\n",
      "user 30 paid 4990.72 dollars\n",
      "user 28 paid 5000.709999999998 dollars\n",
      "user 22 paid 5019.449999999999 dollars\n",
      "user 29 paid 5032.529999999999 dollars\n",
      "user 17 paid 5032.679999999999 dollars\n",
      "user 60 paid 5040.709999999999 dollars\n",
      "user 25 paid 5057.610000000001 dollars\n",
      "user 19 paid 5059.4299999999985 dollars\n",
      "user 81 paid 5112.709999999999 dollars\n",
      "user 69 paid 5123.010000000001 dollars\n",
      "user 65 paid 5140.3499999999985 dollars\n",
      "user 11 paid 5152.290000000002 dollars\n",
      "user 35 paid 5155.419999999999 dollars\n",
      "user 40 paid 5186.429999999999 dollars\n",
      "user 87 paid 5206.4 dollars\n",
      "user 52 paid 5245.059999999999 dollars\n",
      "user 26 paid 5250.4 dollars\n",
      "user 62 paid 5253.3200000000015 dollars\n",
      "user 33 paid 5254.659999999998 dollars\n",
      "user 24 paid 5259.920000000003 dollars\n",
      "user 93 paid 5265.750000000001 dollars\n",
      "user 64 paid 5288.689999999996 dollars\n",
      "user 90 paid 5290.409999999998 dollars\n",
      "user 55 paid 5298.090000000002 dollars\n",
      "user 9 paid 5322.649999999999 dollars\n",
      "user 34 paid 5330.8 dollars\n",
      "user 72 paid 5337.44 dollars\n",
      "user 70 paid 5368.249999999999 dollars\n",
      "user 43 paid 5368.83 dollars\n",
      "user 92 paid 5379.280000000002 dollars\n",
      "user 6 paid 5397.879999999998 dollars\n",
      "user 15 paid 5413.510000000001 dollars\n",
      "user 63 paid 5415.150000000001 dollars\n",
      "user 58 paid 5437.7300000000005 dollars\n",
      "user 32 paid 5496.050000000004 dollars\n",
      "user 61 paid 5497.479999999998 dollars\n",
      "user 85 paid 5503.43 dollars\n",
      "user 8 paid 5517.240000000001 dollars\n",
      "user 0 paid 5524.949999999998 dollars\n",
      "user 41 paid 5637.62 dollars\n",
      "user 59 paid 5642.89 dollars\n",
      "user 42 paid 5696.840000000003 dollars\n",
      "user 46 paid 5963.109999999999 dollars\n",
      "user 97 paid 5977.189999999995 dollars\n",
      "user 2 paid 5994.59 dollars\n",
      "user 71 paid 5995.660000000003 dollars\n",
      "user 54 paid 6065.389999999999 dollars\n",
      "user 39 paid 6193.109999999999 dollars\n",
      "user 73 paid 6206.199999999999 dollars\n",
      "user 68 paid 6375.449999999997 dollars\n"
     ]
    }
   ],
   "source": [
    "def parseLines(file):\n",
    "    fields = file.split(\",\")\n",
    "    userID = int(fields[0])\n",
    "    cost = float(fields[2])\n",
    "    return (userID, cost)\n",
    "\n",
    "file = sc.textFile(\"file:///home/jovyan/work/RDD_Basics/customer-orders.csv\")\n",
    "userCost = file.map(parseLines)\n",
    "# userCostCount = userCost.reduceByKey(lambda x, y: x+y).sortByKey()\n",
    "userCostCount = userCost.reduceByKey(lambda x, y: x+y) \\\n",
    "                        .map(lambda x: (x[1], x[0])) \\\n",
    "                        .sortByKey()\n",
    "\n",
    "results = userCostCount.collect()\n",
    "\n",
    "for result in results:\n",
    "    print(f\"user {result[1]} paid {result[0]} dollars\")\n",
    "\n"
   ]
  }
 ],
 "metadata": {
  "kernelspec": {
   "display_name": "Python 3 (ipykernel)",
   "language": "python",
   "name": "python3"
  },
  "language_info": {
   "codemirror_mode": {
    "name": "ipython",
    "version": 3
   },
   "file_extension": ".py",
   "mimetype": "text/x-python",
   "name": "python",
   "nbconvert_exporter": "python",
   "pygments_lexer": "ipython3",
   "version": "3.10.9"
  }
 },
 "nbformat": 4,
 "nbformat_minor": 5
}
