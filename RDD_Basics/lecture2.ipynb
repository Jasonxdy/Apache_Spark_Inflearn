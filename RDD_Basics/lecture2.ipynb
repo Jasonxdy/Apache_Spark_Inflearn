{
 "cells": [
  {
   "cell_type": "code",
   "execution_count": 2,
   "id": "5006c0d0-8ca4-409d-a85e-c9f8cba7c5b5",
   "metadata": {
    "tags": []
   },
   "outputs": [],
   "source": [
    "import pyspark"
   ]
  },
  {
   "cell_type": "code",
   "execution_count": 3,
   "id": "cb1d207c-d1fc-4c2f-bc87-f93408d643bc",
   "metadata": {
    "tags": []
   },
   "outputs": [],
   "source": [
    "test_file = \"file:///home/jovyan/work/RDD_Basics/word.txt\""
   ]
  },
  {
   "cell_type": "code",
   "execution_count": 4,
   "id": "8ab633b8-006b-4915-a87f-8f83d9a1f2e5",
   "metadata": {
    "tags": []
   },
   "outputs": [],
   "source": [
    "sc = pyspark.SparkContext().getOrCreate()"
   ]
  },
  {
   "cell_type": "code",
   "execution_count": null,
   "id": "8577175c-4241-4330-8196-afbd2b3d09df",
   "metadata": {
    "tags": []
   },
   "outputs": [
    {
     "name": "stdout",
     "output_type": "stream",
     "text": [
      "[('world', 6), ('hello', 6)]\n"
     ]
    }
   ],
   "source": [
    "text_file = sc.textFile(test_file)\n",
    "counts = text_file.flatMap(lambda line: line.split(\" \")) \\\n",
    "                    .map(lambda word: (word,1)) \\\n",
    "                    .reduceByKey(lambda a,b: a+b)\n",
    "print(counts.collect())"
   ]
  },
  {
   "cell_type": "code",
   "execution_count": 6,
   "id": "8f44e0f4-c0a2-4d7b-b40a-df63d00d0e87",
   "metadata": {
    "tags": []
   },
   "outputs": [],
   "source": [
    "counts = text_file.flatMap(lambda line: line.split(\" \"))\n",
    "print(counts.collect())"
   ]
  },
  {
   "cell_type": "code",
   "execution_count": 9,
   "id": "0b8e2e2c-bc14-4787-b66e-475d861b83fa",
   "metadata": {
    "tags": []
   },
   "outputs": [
    {
     "name": "stdout",
     "output_type": "stream",
     "text": [
      "[('hello', 1), ('world', 1), ('hello', 1), ('world', 1), ('hello', 1), ('world', 1), ('hello', 1), ('world', 1), ('hello', 1), ('world', 1), ('hello', 1), ('world', 1)]\n"
     ]
    }
   ],
   "source": [
    "pair = counts.map(lambda word: (word, 1))\n",
    "print(pair.collect())"
   ]
  },
  {
   "cell_type": "code",
   "execution_count": 9,
   "id": "f40cb5c5-fd43-48d0-9973-5c9d58c07135",
   "metadata": {
    "tags": []
   },
   "outputs": [
    {
     "name": "stdout",
     "output_type": "stream",
     "text": [
      "[('hello', 1), ('world', 1), ('hello', 1), ('world', 1), ('hello', 1), ('world', 1), ('hello', 1), ('world', 1), ('hello', 1), ('world', 1), ('hello', 1), ('world', 1)]\n"
     ]
    }
   ],
   "source": [
    "reduced = pair.redu(lambda word: (word, 1))\n",
    "print(pair.collect())"
   ]
  }
 ],
 "metadata": {
  "kernelspec": {
   "display_name": "Python 3 (ipykernel)",
   "language": "python",
   "name": "python3"
  },
  "language_info": {
   "codemirror_mode": {
    "name": "ipython",
    "version": 3
   },
   "file_extension": ".py",
   "mimetype": "text/x-python",
   "name": "python",
   "nbconvert_exporter": "python",
   "pygments_lexer": "ipython3",
   "version": "3.10.9"
  }
 },
 "nbformat": 4,
 "nbformat_minor": 5
}
